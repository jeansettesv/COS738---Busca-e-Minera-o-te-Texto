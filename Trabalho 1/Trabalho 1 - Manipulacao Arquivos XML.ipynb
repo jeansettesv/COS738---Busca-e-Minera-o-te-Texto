{
 "cells": [
  {
   "cell_type": "code",
   "execution_count": 1,
   "id": "def9d34d",
   "metadata": {},
   "outputs": [],
   "source": [
    "import xml.dom.minidom as dom\n",
    "import xml.sax as sax\n",
    "import os"
   ]
  },
  {
   "cell_type": "code",
   "execution_count": 20,
   "id": "2b265deb",
   "metadata": {
    "scrolled": true
   },
   "outputs": [],
   "source": [
    "path = os.path.join(os.getcwd(), \"CysticFibrosis2-20230406\\data\\cf79.xml\")"
   ]
  },
  {
   "cell_type": "code",
   "execution_count": 21,
   "id": "77608b57",
   "metadata": {},
   "outputs": [],
   "source": [
    "### LENDO O ARQUIVO XML E GERANDO UM NOVO XML COM OS AUTORES UTILIZANDO A BIBLIOTECA DOM ###\n",
    "\n",
    "# Leitura do arquivo XML\n",
    "doc = dom.parse(path)\n",
    "autores = doc.getElementsByTagName('AUTHOR')\n",
    "\n",
    "# Criação de um novo arquivo XML\n",
    "novo_doc = dom.Document()\n",
    "autores_elemento = novo_doc.createElement('AUTHORS')\n",
    "novo_doc.appendChild(autores_elemento)\n",
    "\n",
    "# Adiciona cada autor em uma nova linha e garantindo que não haja repetição\n",
    "nomes = []\n",
    "for autor in autores:\n",
    "    \n",
    "    nome = autor.firstChild.data\n",
    "    if nome not in nomes:\n",
    "        \n",
    "        nomes.append(nome)\n",
    "    \n",
    "        autor_elemento = novo_doc.createElement('AUTHOR')\n",
    "        autor_nome = novo_doc.createTextNode(nome)\n",
    "        autor_elemento.appendChild(autor_nome)\n",
    "\n",
    "        quebra_linha = novo_doc.createTextNode('\\n')\n",
    "        autores_elemento.appendChild(quebra_linha)\n",
    "\n",
    "        autores_elemento.appendChild(autor_elemento)\n",
    "\n",
    "# Gravação do novo arquivo XML com os autores em linhas separadas\n",
    "with open('autor.xml', 'w') as arquivo:\n",
    "    arquivo.write(novo_doc.toprettyxml(indent='    '))"
   ]
  },
  {
   "cell_type": "code",
   "execution_count": 22,
   "id": "087b8a13",
   "metadata": {},
   "outputs": [],
   "source": [
    "### LENDO O ARQUIVO XML E GERANDO UM NOVO XML COM OS TITULOS UTILIZANDO A BIBLIOTECA SAX ###\n",
    "\n",
    "# Criando a classe que escreve cada titulo individualmente a partir da leitura do arquivo xml pela biblioteca SAX\n",
    "class TitleContentHandler(sax.ContentHandler):\n",
    "    def __init__(self, output_file):\n",
    "        sax.ContentHandler.__init__(self)\n",
    "        self.output_file = output_file\n",
    "        self.in_title = False\n",
    "\n",
    "    def startElement(self, name, attrs):\n",
    "        if name == \"TITLE\":\n",
    "            self.in_title = True\n",
    "            self.output_file.write(\"<TITLE>\")\n",
    "\n",
    "    def characters(self, content):\n",
    "        if self.in_title:\n",
    "            self.output_file.write(sax.saxutils.escape(content.strip()))\n",
    "\n",
    "    def endElement(self, name):\n",
    "        if name == \"TITLE\":\n",
    "            self.in_title = False\n",
    "            self.output_file.write(\"</TITLE>\\n\")\n",
    "\n",
    "# Gravação do novo arquivo XML com os titulos em linhas separadas\n",
    "output_file = open(\"titulo.xml\", \"w\")\n",
    "output_file.write(\"<?xml version=\\\"1.0\\\" encoding=\\\"UTF-8\\\"?>\\n\")\n",
    "output_file.write(\"<TITLES>\\n\")\n",
    "handler = TitleContentHandler(output_file)\n",
    "sax.parse(path, handler)\n",
    "output_file.write(\"</TITLES>\")\n",
    "output_file.close()"
   ]
  },
  {
   "cell_type": "code",
   "execution_count": null,
   "id": "2bf48ad0",
   "metadata": {},
   "outputs": [],
   "source": []
  }
 ],
 "metadata": {
  "kernelspec": {
   "display_name": "Python 3 (ipykernel)",
   "language": "python",
   "name": "python3"
  },
  "language_info": {
   "codemirror_mode": {
    "name": "ipython",
    "version": 3
   },
   "file_extension": ".py",
   "mimetype": "text/x-python",
   "name": "python",
   "nbconvert_exporter": "python",
   "pygments_lexer": "ipython3",
   "version": "3.9.13"
  }
 },
 "nbformat": 4,
 "nbformat_minor": 5
}
