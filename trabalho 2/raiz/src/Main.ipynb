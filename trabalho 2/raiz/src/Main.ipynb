{
 "cells": [
  {
   "cell_type": "code",
   "execution_count": null,
   "id": "a2656c5d",
   "metadata": {
    "scrolled": false
   },
   "outputs": [],
   "source": [
    "from Functions import *\n",
    "\n",
    "logger.handlers.clear()\n",
    "logger.setLevel(logging.INFO)\n",
    "logger.addHandler(console_handler)\n",
    "logger.addHandler(file_handler)\n",
    "\n",
    "# Ler todos os dados\n",
    "try:\n",
    "    dados = ler_dados()\n",
    "except:\n",
    "    logger.info('Erro na leitura dos dados, favor verificar a integridade dos arquivos necessários.')\n",
    "\n",
    "# Fazer todo o processamento\n",
    "try:\n",
    "    dados_processados = processar_dados(dados)\n",
    "except:\n",
    "    logger.info('Erro na leitura dos dados, favor verificar a integridade dos arquivos necessários.')\n",
    "\n",
    "\n",
    "# Salvar todos os dados\n",
    "try:\n",
    "    salvar_dados(dados, dados_processados)\n",
    "except:\n",
    "    logger.info('Erro no salavamento dos dados, favor verificar a integridade dos arquivos necessários.')\n",
    "\n",
    "logger.info('Programa finalizado')"
   ]
  }
 ],
 "metadata": {
  "kernelspec": {
   "display_name": "Python 3 (ipykernel)",
   "language": "python",
   "name": "python3"
  },
  "language_info": {
   "codemirror_mode": {
    "name": "ipython",
    "version": 3
   },
   "file_extension": ".py",
   "mimetype": "text/x-python",
   "name": "python",
   "nbconvert_exporter": "python",
   "pygments_lexer": "ipython3",
   "version": "3.9.13"
  }
 },
 "nbformat": 4,
 "nbformat_minor": 5
}
