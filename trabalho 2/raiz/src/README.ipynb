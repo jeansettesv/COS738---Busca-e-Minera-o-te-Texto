{
 "cells": [
  {
   "cell_type": "markdown",
   "id": "9f71e2de",
   "metadata": {},
   "source": [
    "# Trabalho 2 - Programa de busca"
   ]
  },
  {
   "cell_type": "markdown",
   "id": "30c6f876",
   "metadata": {},
   "source": [
    "Este programa tem como objetivo buscar nos documentos disponibilizados, os documentos mais similares às consultas contidas no arquivo cfquery. Algumas informações importantes seguem adiante:\n",
    "\n",
    "1) Ele esta separado como sugerido pelo professor, logo existe uma pasta src com os codigos fontes, uma pasta result com os resultados e a pasta raiz onde estão contidas as duas pastas e, além delas, os arquivos de configuração que são lidos, o log gerado, o README.md e o MODELO.txt.\n",
    "\n",
    "2) O arquivo funciona da seguinte forma: Ele vai supor a existência dos arquivos listados nas configurações e, caso não existam, ele vai pedir pra verificá-los (isso vale para todos os arquivos com excecção do arquivo resultados.csv). \n",
    "\n",
    "3) Outro ponto relevante é que o programa primeiro lê todos os arquivos, logo ele vai produzir resultados de acordo com os arquivos pré-existentes, ou seja, não é algo sequencial (não utiliza o resultado das etapa anteriores), por isso ele não foi feito pra alteração de arquivo, ele cria uma base com todos os documentos contido nos arquivos e faz a busca para todas as consultas. Se alterar algum arquivo, o programa precisará ser rodado mais de uma vez para alterar todos os arquivos uma vez que ele só escreve após o processamento de todos. O ideal seria uma opção mais versátil mas fiquei confuso com algumas orientações contidas na descrição do trabalho.\n",
    "\n",
    "4) Não precisa dar imput, é só executar o arquivo main (seja o notebook ou a versão em .py).\n",
    "\n",
    "No mais é isso, e qualquer dúvida entre em contato: jssv@cos.ufrj.br"
   ]
  }
 ],
 "metadata": {
  "kernelspec": {
   "display_name": "Python 3 (ipykernel)",
   "language": "python",
   "name": "python3"
  },
  "language_info": {
   "codemirror_mode": {
    "name": "ipython",
    "version": 3
   },
   "file_extension": ".py",
   "mimetype": "text/x-python",
   "name": "python",
   "nbconvert_exporter": "python",
   "pygments_lexer": "ipython3",
   "version": "3.9.13"
  }
 },
 "nbformat": 4,
 "nbformat_minor": 5
}
